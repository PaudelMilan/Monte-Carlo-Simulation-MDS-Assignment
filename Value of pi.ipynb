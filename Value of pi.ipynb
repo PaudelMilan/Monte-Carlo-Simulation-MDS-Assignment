{
 "cells": [
  {
   "cell_type": "code",
   "execution_count": 4,
   "metadata": {},
   "outputs": [],
   "source": [
    "import numpy as np\n",
    "import matplotlib.pyplot as py"
   ]
  },
  {
   "cell_type": "code",
   "execution_count": 12,
   "metadata": {},
   "outputs": [
    {
     "name": "stdout",
     "output_type": "stream",
     "text": [
      "3.1484\n"
     ]
    }
   ],
   "source": [
    "count = 10000\n",
    "x = np.random.uniform(0,1,count)\n",
    "y = np.random.uniform(0,1,count)\n",
    "d = x*x + y*y\n",
    "count_circle = 0\n",
    "count_rec = 0\n",
    "for i in range(count):\n",
    "    if d[i] <=1 : count_circle = count_circle +1\n",
    "    else: count_rec = count_rec +1\n",
    "\n",
    "pi = 4*(count_circle/count)\n",
    "print(pi)"
   ]
  },
  {
   "cell_type": "code",
   "execution_count": null,
   "metadata": {},
   "outputs": [],
   "source": []
  },
  {
   "cell_type": "code",
   "execution_count": null,
   "metadata": {},
   "outputs": [],
   "source": []
  }
 ],
 "metadata": {
  "kernelspec": {
   "display_name": "Python 3",
   "language": "python",
   "name": "python3"
  },
  "language_info": {
   "codemirror_mode": {
    "name": "ipython",
    "version": 3
   },
   "file_extension": ".py",
   "mimetype": "text/x-python",
   "name": "python",
   "nbconvert_exporter": "python",
   "pygments_lexer": "ipython3",
   "version": "3.11.2"
  }
 },
 "nbformat": 4,
 "nbformat_minor": 2
}
