{
 "cells": [
  {
   "cell_type": "code",
   "execution_count": 2,
   "metadata": {},
   "outputs": [],
   "source": [
    "import numpy as np\n",
    "import matplotlib.pyplot as py\n",
    "import math\n",
    "from multiprocessing import Pool"
   ]
  },
  {
   "cell_type": "code",
   "execution_count": 2,
   "metadata": {},
   "outputs": [],
   "source": [
    "def func(x):\n",
    "    return 4/(1+x**2)"
   ]
  },
  {
   "cell_type": "code",
   "execution_count": 3,
   "metadata": {},
   "outputs": [],
   "source": [
    "a = 0\n",
    "b = 1\n",
    "count = 100000\n",
    "x_data = range(count)\n",
    "mean_value = []\n",
    "error_value = []\n",
    "std = []\n",
    "x = np.random.uniform(a,b,count)\n",
    "y = func(x)\n",
    "\n",
    "def tranx(count):\n",
    "        #Integration Using Montecarlos\n",
    "        #Integrate exp(x) over lower limits of 10 and upper limits of 15\n",
    "        print(\"Hello world\\n\"*5)\n",
    "        for i in range(count):\n",
    "                means = np.mean(y[:i+1])*(b-a)\n",
    "                mean_value.append(means)\n",
    "                value = np.std(y[:i+1])\n",
    "                error = value/(i+1)**0.5\n",
    "                error_value.append(error)\n",
    "                std.append(value)\n",
    "\n",
    "        py.subplot(1,3,1)\n",
    "        py.title(\"Value of pi\")\n",
    "        py.xlabel(\"Random Number Count\")\n",
    "        py.ylabel(\"PI Value\")\n",
    "        py.scatter(x_data,mean_value, marker= \".\")\n",
    "        py.subplot(1,3,2)\n",
    "        py.title(\"Standard Error\")\n",
    "        py.xlabel(\"Random Number Count\")\n",
    "        py.ylabel(\"Error Values\")\n",
    "        py.scatter(x_data,error_value, marker= \".\")\n",
    "        py.subplots_adjust(wspace=0.8)\n",
    "        py.suptitle(f\"Value of pi with lower and upper limits of {a}, {b} respectively\")\n",
    "        py.subplot(1,3,3)\n",
    "        py.title(\"Standard Deviation\")\n",
    "        py.scatter(x_data,std)\n",
    "        py.xlabel(\"Random Number Count\")\n",
    "        py.ylabel(\"Standard Deviation Values\")\n",
    "        py.show()\n",
    "\n",
    "\n",
    "        lower  = 0\n",
    "        limit = 100000\n",
    "        pi = math.atan(1)*4\n",
    "        py.plot(x_data[lower:limit],mean_value[lower:limit], linestyle = \"-\")\n",
    "        py.plot(x_data[lower:limit],[pi for i in range(lower,limit)])\n",
    "        py.ylim(3.1,3.2)\n",
    "        py.show()"
   ]
  },
  {
   "cell_type": "code",
   "execution_count": null,
   "metadata": {},
   "outputs": [],
   "source": []
  },
  {
   "cell_type": "code",
   "execution_count": 6,
   "metadata": {},
   "outputs": [],
   "source": [
    "if __name__ == '__main__':\n",
    "    with Pool(5) as p:\n",
    "        p.map(tranx,(count,))"
   ]
  },
  {
   "cell_type": "code",
   "execution_count": 5,
   "metadata": {},
   "outputs": [
    {
     "ename": "IndexError",
     "evalue": "list index out of range",
     "output_type": "error",
     "traceback": [
      "\u001b[1;31m---------------------------------------------------------------------------\u001b[0m",
      "\u001b[1;31mIndexError\u001b[0m                                Traceback (most recent call last)",
      "Cell \u001b[1;32mIn[5], line 1\u001b[0m\n\u001b[1;32m----> 1\u001b[0m \u001b[43mmean_value\u001b[49m\u001b[43m[\u001b[49m\u001b[38;5;241;43m-\u001b[39;49m\u001b[38;5;241;43m1\u001b[39;49m\u001b[43m]\u001b[49m\n",
      "\u001b[1;31mIndexError\u001b[0m: list index out of range"
     ]
    }
   ],
   "source": [
    "mean_value[-1]"
   ]
  },
  {
   "cell_type": "code",
   "execution_count": null,
   "metadata": {},
   "outputs": [],
   "source": [
    "std[-1]"
   ]
  },
  {
   "cell_type": "code",
   "execution_count": null,
   "metadata": {},
   "outputs": [],
   "source": [
    "error_value[-1]"
   ]
  },
  {
   "cell_type": "code",
   "execution_count": null,
   "metadata": {},
   "outputs": [],
   "source": [
    "math"
   ]
  },
  {
   "cell_type": "code",
   "execution_count": 6,
   "metadata": {},
   "outputs": [
    {
     "name": "stdout",
     "output_type": "stream",
     "text": [
      "Help on method Pool in module multiprocessing.context:\n",
      "\n",
      "Pool(processes=None, initializer=None, initargs=(), maxtasksperchild=None) method of multiprocessing.context.DefaultContext instance\n",
      "    Returns a process pool object\n",
      "\n"
     ]
    }
   ],
   "source": [
    "help(Pool)"
   ]
  },
  {
   "cell_type": "code",
   "execution_count": null,
   "metadata": {},
   "outputs": [],
   "source": [
    "count = 10000\n",
    "list(range(count))"
   ]
  },
  {
   "cell_type": "code",
   "execution_count": null,
   "metadata": {},
   "outputs": [],
   "source": []
  }
 ],
 "metadata": {
  "kernelspec": {
   "display_name": "Python 3",
   "language": "python",
   "name": "python3"
  },
  "language_info": {
   "codemirror_mode": {
    "name": "ipython",
    "version": 3
   },
   "file_extension": ".py",
   "mimetype": "text/x-python",
   "name": "python",
   "nbconvert_exporter": "python",
   "pygments_lexer": "ipython3",
   "version": "3.11.2"
  }
 },
 "nbformat": 4,
 "nbformat_minor": 2
}
